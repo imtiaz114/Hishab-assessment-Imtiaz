{
 "cells": [
  {
   "cell_type": "markdown",
   "id": "ee99c692",
   "metadata": {
    "papermill": {
     "duration": 0.01311,
     "end_time": "2023-07-11T14:56:02.416059",
     "exception": false,
     "start_time": "2023-07-11T14:56:02.402949",
     "status": "completed"
    },
    "tags": []
   },
   "source": [
    "# Setup"
   ]
  },
  {
   "cell_type": "code",
   "execution_count": 1,
   "id": "c9a9e229",
   "metadata": {
    "execution": {
     "iopub.execute_input": "2023-07-11T14:56:02.444510Z",
     "iopub.status.busy": "2023-07-11T14:56:02.443593Z",
     "iopub.status.idle": "2023-07-11T14:56:15.998865Z",
     "shell.execute_reply": "2023-07-11T14:56:15.997734Z"
    },
    "papermill": {
     "duration": 13.571463,
     "end_time": "2023-07-11T14:56:16.001182",
     "exception": false,
     "start_time": "2023-07-11T14:56:02.429719",
     "status": "completed"
    },
    "tags": []
   },
   "outputs": [
    {
     "name": "stdout",
     "output_type": "stream",
     "text": [
      "Requirement already satisfied: datasets in /opt/conda/lib/python3.10/site-packages (2.1.0)\r\n",
      "Requirement already satisfied: numpy>=1.17 in /opt/conda/lib/python3.10/site-packages (from datasets) (1.23.5)\r\n",
      "Requirement already satisfied: pyarrow>=5.0.0 in /opt/conda/lib/python3.10/site-packages (from datasets) (11.0.0)\r\n",
      "Requirement already satisfied: dill in /opt/conda/lib/python3.10/site-packages (from datasets) (0.3.6)\r\n",
      "Requirement already satisfied: pandas in /opt/conda/lib/python3.10/site-packages (from datasets) (1.5.3)\r\n",
      "Requirement already satisfied: requests>=2.19.0 in /opt/conda/lib/python3.10/site-packages (from datasets) (2.31.0)\r\n",
      "Requirement already satisfied: tqdm>=4.62.1 in /opt/conda/lib/python3.10/site-packages (from datasets) (4.65.0)\r\n",
      "Requirement already satisfied: xxhash in /opt/conda/lib/python3.10/site-packages (from datasets) (3.2.0)\r\n",
      "Requirement already satisfied: multiprocess in /opt/conda/lib/python3.10/site-packages (from datasets) (0.70.14)\r\n",
      "Requirement already satisfied: fsspec[http]>=2021.05.0 in /opt/conda/lib/python3.10/site-packages (from datasets) (2023.6.0)\r\n",
      "Requirement already satisfied: aiohttp in /opt/conda/lib/python3.10/site-packages (from datasets) (3.8.4)\r\n",
      "Requirement already satisfied: huggingface-hub<1.0.0,>=0.1.0 in /opt/conda/lib/python3.10/site-packages (from datasets) (0.16.4)\r\n",
      "Requirement already satisfied: packaging in /opt/conda/lib/python3.10/site-packages (from datasets) (21.3)\r\n",
      "Requirement already satisfied: responses<0.19 in /opt/conda/lib/python3.10/site-packages (from datasets) (0.18.0)\r\n",
      "Requirement already satisfied: attrs>=17.3.0 in /opt/conda/lib/python3.10/site-packages (from aiohttp->datasets) (23.1.0)\r\n",
      "Requirement already satisfied: charset-normalizer<4.0,>=2.0 in /opt/conda/lib/python3.10/site-packages (from aiohttp->datasets) (3.1.0)\r\n",
      "Requirement already satisfied: multidict<7.0,>=4.5 in /opt/conda/lib/python3.10/site-packages (from aiohttp->datasets) (6.0.4)\r\n",
      "Requirement already satisfied: async-timeout<5.0,>=4.0.0a3 in /opt/conda/lib/python3.10/site-packages (from aiohttp->datasets) (4.0.2)\r\n",
      "Requirement already satisfied: yarl<2.0,>=1.0 in /opt/conda/lib/python3.10/site-packages (from aiohttp->datasets) (1.9.2)\r\n",
      "Requirement already satisfied: frozenlist>=1.1.1 in /opt/conda/lib/python3.10/site-packages (from aiohttp->datasets) (1.3.3)\r\n",
      "Requirement already satisfied: aiosignal>=1.1.2 in /opt/conda/lib/python3.10/site-packages (from aiohttp->datasets) (1.3.1)\r\n",
      "Requirement already satisfied: filelock in /opt/conda/lib/python3.10/site-packages (from huggingface-hub<1.0.0,>=0.1.0->datasets) (3.12.2)\r\n",
      "Requirement already satisfied: pyyaml>=5.1 in /opt/conda/lib/python3.10/site-packages (from huggingface-hub<1.0.0,>=0.1.0->datasets) (6.0)\r\n",
      "Requirement already satisfied: typing-extensions>=3.7.4.3 in /opt/conda/lib/python3.10/site-packages (from huggingface-hub<1.0.0,>=0.1.0->datasets) (4.6.3)\r\n",
      "Requirement already satisfied: pyparsing!=3.0.5,>=2.0.2 in /opt/conda/lib/python3.10/site-packages (from packaging->datasets) (3.0.9)\r\n",
      "Requirement already satisfied: idna<4,>=2.5 in /opt/conda/lib/python3.10/site-packages (from requests>=2.19.0->datasets) (3.4)\r\n",
      "Requirement already satisfied: urllib3<3,>=1.21.1 in /opt/conda/lib/python3.10/site-packages (from requests>=2.19.0->datasets) (1.26.15)\r\n",
      "Requirement already satisfied: certifi>=2017.4.17 in /opt/conda/lib/python3.10/site-packages (from requests>=2.19.0->datasets) (2023.5.7)\r\n",
      "Requirement already satisfied: python-dateutil>=2.8.1 in /opt/conda/lib/python3.10/site-packages (from pandas->datasets) (2.8.2)\r\n",
      "Requirement already satisfied: pytz>=2020.1 in /opt/conda/lib/python3.10/site-packages (from pandas->datasets) (2023.3)\r\n",
      "Requirement already satisfied: six>=1.5 in /opt/conda/lib/python3.10/site-packages (from python-dateutil>=2.8.1->pandas->datasets) (1.16.0)\r\n",
      "--2023-07-11 14:56:15--  https://raw.githubusercontent.com/sighsmile/conlleval/master/conlleval.py\r\n",
      "Resolving raw.githubusercontent.com (raw.githubusercontent.com)... 185.199.108.133, 185.199.109.133, 185.199.110.133, ...\r\n",
      "Connecting to raw.githubusercontent.com (raw.githubusercontent.com)|185.199.108.133|:443... connected.\r\n",
      "HTTP request sent, awaiting response... 200 OK\r\n",
      "Length: 7502 (7.3K) [text/plain]\r\n",
      "Saving to: ‘conlleval.py’\r\n",
      "\r\n",
      "conlleval.py        100%[===================>]   7.33K  --.-KB/s    in 0s      \r\n",
      "\r\n",
      "2023-07-11 14:56:15 (54.9 MB/s) - ‘conlleval.py’ saved [7502/7502]\r\n",
      "\r\n"
     ]
    }
   ],
   "source": [
    "!pip3 install datasets\n",
    "!wget https://raw.githubusercontent.com/sighsmile/conlleval/master/conlleval.py"
   ]
  },
  {
   "cell_type": "code",
   "execution_count": 2,
   "id": "017d7dfc",
   "metadata": {
    "execution": {
     "iopub.execute_input": "2023-07-11T14:56:16.030381Z",
     "iopub.status.busy": "2023-07-11T14:56:16.030069Z",
     "iopub.status.idle": "2023-07-11T14:56:25.286121Z",
     "shell.execute_reply": "2023-07-11T14:56:25.285001Z"
    },
    "papermill": {
     "duration": 9.27348,
     "end_time": "2023-07-11T14:56:25.288814",
     "exception": false,
     "start_time": "2023-07-11T14:56:16.015334",
     "status": "completed"
    },
    "tags": []
   },
   "outputs": [
    {
     "name": "stderr",
     "output_type": "stream",
     "text": [
      "/opt/conda/lib/python3.10/site-packages/scipy/__init__.py:146: UserWarning: A NumPy version >=1.16.5 and <1.23.0 is required for this version of SciPy (detected version 1.23.5\n",
      "  warnings.warn(f\"A NumPy version >={np_minversion} and <{np_maxversion}\"\n",
      "/opt/conda/lib/python3.10/site-packages/tensorflow_io/python/ops/__init__.py:98: UserWarning: unable to load libtensorflow_io_plugins.so: unable to open file: libtensorflow_io_plugins.so, from paths: ['/opt/conda/lib/python3.10/site-packages/tensorflow_io/python/ops/libtensorflow_io_plugins.so']\n",
      "caused by: ['/opt/conda/lib/python3.10/site-packages/tensorflow_io/python/ops/libtensorflow_io_plugins.so: undefined symbol: _ZN3tsl6StatusC1EN10tensorflow5error4CodeESt17basic_string_viewIcSt11char_traitsIcEENS_14SourceLocationE']\n",
      "  warnings.warn(f\"unable to load libtensorflow_io_plugins.so: {e}\")\n",
      "/opt/conda/lib/python3.10/site-packages/tensorflow_io/python/ops/__init__.py:104: UserWarning: file system plugins are not loaded: unable to open file: libtensorflow_io.so, from paths: ['/opt/conda/lib/python3.10/site-packages/tensorflow_io/python/ops/libtensorflow_io.so']\n",
      "caused by: ['/opt/conda/lib/python3.10/site-packages/tensorflow_io/python/ops/libtensorflow_io.so: undefined symbol: _ZTVN10tensorflow13GcsFileSystemE']\n",
      "  warnings.warn(f\"file system plugins are not loaded: {e}\")\n"
     ]
    }
   ],
   "source": [
    "import os\n",
    "import numpy as np\n",
    "import tensorflow as tf\n",
    "from tensorflow import keras\n",
    "from tensorflow.keras import layers\n",
    "from datasets import load_dataset\n",
    "from collections import Counter\n",
    "from conlleval import evaluate\n",
    "import matplotlib.pyplot as plt\n",
    "\n",
    "\n",
    "from tensorflow.keras import initializers\n",
    "\n",
    "import random\n",
    "import pandas as pd\n",
    "import gc\n",
    "from sklearn.model_selection import train_test_split"
   ]
  },
  {
   "cell_type": "markdown",
   "id": "8925d275",
   "metadata": {
    "papermill": {
     "duration": 0.013426,
     "end_time": "2023-07-11T14:56:25.316820",
     "exception": false,
     "start_time": "2023-07-11T14:56:25.303394",
     "status": "completed"
    },
    "tags": []
   },
   "source": [
    "# Dataset"
   ]
  },
  {
   "cell_type": "code",
   "execution_count": 3,
   "id": "c469b737",
   "metadata": {
    "execution": {
     "iopub.execute_input": "2023-07-11T14:56:25.346137Z",
     "iopub.status.busy": "2023-07-11T14:56:25.345481Z",
     "iopub.status.idle": "2023-07-11T14:56:25.477768Z",
     "shell.execute_reply": "2023-07-11T14:56:25.476198Z"
    },
    "papermill": {
     "duration": 0.149602,
     "end_time": "2023-07-11T14:56:25.480214",
     "exception": false,
     "start_time": "2023-07-11T14:56:25.330612",
     "status": "completed"
    },
    "tags": []
   },
   "outputs": [
    {
     "data": {
      "text/html": [
       "<div>\n",
       "<style scoped>\n",
       "    .dataframe tbody tr th:only-of-type {\n",
       "        vertical-align: middle;\n",
       "    }\n",
       "\n",
       "    .dataframe tbody tr th {\n",
       "        vertical-align: top;\n",
       "    }\n",
       "\n",
       "    .dataframe thead th {\n",
       "        text-align: right;\n",
       "    }\n",
       "</style>\n",
       "<table border=\"1\" class=\"dataframe\">\n",
       "  <thead>\n",
       "    <tr style=\"text-align: right;\">\n",
       "      <th></th>\n",
       "      <th>tokens</th>\n",
       "      <th>tags</th>\n",
       "    </tr>\n",
       "  </thead>\n",
       "  <tbody>\n",
       "    <tr>\n",
       "      <th>0</th>\n",
       "      <td>['\\ufeffউন্নয়নের', 'বিস্ময়', 'বাংলাদেশ', 'বাংল...</td>\n",
       "      <td>['O', 'O', 'B-LOC', 'B-LOC', 'O', 'O', 'O', 'O...</td>\n",
       "    </tr>\n",
       "    <tr>\n",
       "      <th>1</th>\n",
       "      <td>['অর্থনীতি', 'ও', 'আর্থসামাজিক', 'বেশির', 'ভাগ...</td>\n",
       "      <td>['O', 'O', 'O', 'O', 'O', 'O', 'B-LOC', 'O', '...</td>\n",
       "    </tr>\n",
       "    <tr>\n",
       "      <th>2</th>\n",
       "      <td>['নিম্ন', 'আয়ের', 'দেশগুলোকে', 'ছাড়িয়েছে', 'তো...</td>\n",
       "      <td>['O', 'O', 'O', 'O', 'O', 'O', 'O', 'O']</td>\n",
       "    </tr>\n",
       "    <tr>\n",
       "      <th>3</th>\n",
       "      <td>['আন্তর্জাতিক', 'মুদ্রা', 'তহবিল', '(', 'আইএমএ...</td>\n",
       "      <td>['B-ORG', 'I-ORG', 'I-ORG', 'O', 'B-ORG', 'O',...</td>\n",
       "    </tr>\n",
       "    <tr>\n",
       "      <th>4</th>\n",
       "      <td>['সবাইকে', 'অন্তর্ভুক্ত', 'করে', 'প্রবৃদ্ধি', ...</td>\n",
       "      <td>['O', 'O', 'O', 'O', 'O', 'O', 'B-LOC', 'O', '...</td>\n",
       "    </tr>\n",
       "  </tbody>\n",
       "</table>\n",
       "</div>"
      ],
      "text/plain": [
       "                                              tokens  \\\n",
       "0  ['\\ufeffউন্নয়নের', 'বিস্ময়', 'বাংলাদেশ', 'বাংল...   \n",
       "1  ['অর্থনীতি', 'ও', 'আর্থসামাজিক', 'বেশির', 'ভাগ...   \n",
       "2  ['নিম্ন', 'আয়ের', 'দেশগুলোকে', 'ছাড়িয়েছে', 'তো...   \n",
       "3  ['আন্তর্জাতিক', 'মুদ্রা', 'তহবিল', '(', 'আইএমএ...   \n",
       "4  ['সবাইকে', 'অন্তর্ভুক্ত', 'করে', 'প্রবৃদ্ধি', ...   \n",
       "\n",
       "                                                tags  \n",
       "0  ['O', 'O', 'B-LOC', 'B-LOC', 'O', 'O', 'O', 'O...  \n",
       "1  ['O', 'O', 'O', 'O', 'O', 'O', 'B-LOC', 'O', '...  \n",
       "2           ['O', 'O', 'O', 'O', 'O', 'O', 'O', 'O']  \n",
       "3  ['B-ORG', 'I-ORG', 'I-ORG', 'O', 'B-ORG', 'O',...  \n",
       "4  ['O', 'O', 'O', 'O', 'O', 'O', 'B-LOC', 'O', '...  "
      ]
     },
     "execution_count": 3,
     "metadata": {},
     "output_type": "execute_result"
    }
   ],
   "source": [
    "dataset_path = \"/kaggle/input/hishab-dataset-person-extractor/hishab_ds/hishab_ds/concatenated_bangla_ner_multiclass.csv\"\n",
    "df = pd.read_csv(dataset_path,index_col=False)\n",
    "df.head(5)"
   ]
  },
  {
   "cell_type": "markdown",
   "id": "cd86294b",
   "metadata": {
    "papermill": {
     "duration": 0.013747,
     "end_time": "2023-07-11T14:56:25.508409",
     "exception": false,
     "start_time": "2023-07-11T14:56:25.494662",
     "status": "completed"
    },
    "tags": []
   },
   "source": [
    "* tokenizing the tokens and tags"
   ]
  },
  {
   "cell_type": "code",
   "execution_count": 4,
   "id": "f581d2d7",
   "metadata": {
    "execution": {
     "iopub.execute_input": "2023-07-11T14:56:25.537224Z",
     "iopub.status.busy": "2023-07-11T14:56:25.536915Z",
     "iopub.status.idle": "2023-07-11T14:56:25.643528Z",
     "shell.execute_reply": "2023-07-11T14:56:25.642514Z"
    },
    "papermill": {
     "duration": 0.123576,
     "end_time": "2023-07-11T14:56:25.645767",
     "exception": false,
     "start_time": "2023-07-11T14:56:25.522191",
     "status": "completed"
    },
    "tags": []
   },
   "outputs": [
    {
     "name": "stdout",
     "output_type": "stream",
     "text": [
      "9926 9926\n",
      "7963 7963\n"
     ]
    }
   ],
   "source": [
    "tokens = df[\"tokens\"].tolist()\n",
    "tags   = df[\"tags\"].tolist()\n",
    "print(len(tokens),len(tags))\n",
    "\n",
    "def tokenization(tokens,tags):\n",
    "    ######## tags\n",
    "    newTags = []\n",
    "    newTokens = []\n",
    "    for idx in range(len(tags)):\n",
    "        demo1 = tags[idx]\n",
    "        ## getting individual tags\n",
    "        demo1 = demo1.replace(\"[\", \"\" )# at first tabs necessary to add count\n",
    "        demo1 = demo1.replace(\"]\", \"\" )# at first tabs necessary to add count\n",
    "        demo1 = demo1.replace(\"'\", \"\" )# at first tabs necessary to add count\n",
    "        demo1 = demo1.replace(\" \", \"\" )# at first tabs necessary to add count\n",
    "        demo1 = demo1.split(\",\")\n",
    "        \n",
    "        ###########\n",
    "        demo2 = tokens[idx]\n",
    "        ## getting individual tags\n",
    "        demo2 = demo2.replace(\"[\", \"\" )# at first tabs necessary to add count\n",
    "        demo2 = demo2.replace(\"]\", \"\" )# at first tabs necessary to add count\n",
    "        demo2 = demo2.replace(\"'\", \"\" )# at first tabs necessary to add count\n",
    "        demo2 = demo2.replace(\" \", \"\" )# at first tabs necessary to add count\n",
    "        demo2 = demo2.split(\",\")\n",
    "        \n",
    "        if len(demo1) == len(demo2):\n",
    "            newTags.append(demo1)\n",
    "            newTokens.append(demo2)\n",
    "    return newTokens,newTags\n",
    "\n",
    "tokens,tags = tokenization(tokens,tags)\n",
    "print(len(tokens),len(tags))"
   ]
  },
  {
   "cell_type": "markdown",
   "id": "a1c66954",
   "metadata": {
    "papermill": {
     "duration": 0.013652,
     "end_time": "2023-07-11T14:56:25.673601",
     "exception": false,
     "start_time": "2023-07-11T14:56:25.659949",
     "status": "completed"
    },
    "tags": []
   },
   "source": [
    "## Augmentation\n",
    "\n",
    "* shuffling and random dropping"
   ]
  },
  {
   "cell_type": "code",
   "execution_count": 5,
   "id": "3ac7012a",
   "metadata": {
    "execution": {
     "iopub.execute_input": "2023-07-11T14:56:25.702754Z",
     "iopub.status.busy": "2023-07-11T14:56:25.702445Z",
     "iopub.status.idle": "2023-07-11T14:56:25.920649Z",
     "shell.execute_reply": "2023-07-11T14:56:25.919269Z"
    },
    "papermill": {
     "duration": 0.235503,
     "end_time": "2023-07-11T14:56:25.922827",
     "exception": false,
     "start_time": "2023-07-11T14:56:25.687324",
     "status": "completed"
    },
    "tags": []
   },
   "outputs": [
    {
     "name": "stdout",
     "output_type": "stream",
     "text": [
      "7963 7963\n",
      "7963 7963\n"
     ]
    }
   ],
   "source": [
    "# shuffling\n",
    "newtokens = []\n",
    "newtags = []\n",
    "\n",
    "newtokens2 = []\n",
    "newtags2 = []\n",
    "\n",
    "for i in range(len(tokens)):\n",
    "    demoTags   = tags[i]\n",
    "    demoTokens = tokens[i]\n",
    "    \n",
    "    idx = list(range(len(demoTokens)))\n",
    "    random_element = random.choice(idx[:int(np.ceil(len(idx)/2))])# dropping\n",
    "    random.shuffle(idx)# shuffling\n",
    "    \n",
    "    demo = []\n",
    "    for j in idx:\n",
    "        demo.append(demoTokens[j])\n",
    "    newtokens.append(demo)\n",
    "    newtokens2.append(demo[random_element:])\n",
    "    \n",
    "    demo = []\n",
    "    for j in idx:\n",
    "        demo.append(demoTags[j])\n",
    "    newtags.append(demo)\n",
    "    newtags2.append(demo[random_element:])\n",
    "    #print(demoTokens,newtokens)\n",
    "    #break\n",
    "print(len(newtokens),len(newtags))\n",
    "print(len(newtokens2),len(newtags2))"
   ]
  },
  {
   "cell_type": "code",
   "execution_count": 6,
   "id": "0b0cf6c6",
   "metadata": {
    "execution": {
     "iopub.execute_input": "2023-07-11T14:56:25.953582Z",
     "iopub.status.busy": "2023-07-11T14:56:25.952081Z",
     "iopub.status.idle": "2023-07-11T14:56:25.960440Z",
     "shell.execute_reply": "2023-07-11T14:56:25.959528Z"
    },
    "papermill": {
     "duration": 0.025211,
     "end_time": "2023-07-11T14:56:25.962291",
     "exception": false,
     "start_time": "2023-07-11T14:56:25.937080",
     "status": "completed"
    },
    "tags": []
   },
   "outputs": [
    {
     "name": "stdout",
     "output_type": "stream",
     "text": [
      "['\\\\ufeffউন্নয়নের', 'বিস্ময়', 'বাংলাদেশ', 'বাংলাদেশের', 'অগ্রগতি', 'উদাহরণ', 'দেওয়ার', 'মতোই', '।']\n",
      "['O', 'O', 'B-LOC', 'B-LOC', 'O', 'O', 'O', 'O', 'O']\n",
      "\n",
      "\n",
      "['বিস্ময়', 'দেওয়ার', '\\\\ufeffউন্নয়নের', '।', 'বাংলাদেশ', 'বাংলাদেশের', 'উদাহরণ', 'মতোই', 'অগ্রগতি']\n",
      "['O', 'O', 'O', 'O', 'B-LOC', 'B-LOC', 'O', 'O', 'O']\n",
      "\n",
      "\n",
      "['বাংলাদেশ', 'বাংলাদেশের', 'উদাহরণ', 'মতোই', 'অগ্রগতি']\n",
      "['B-LOC', 'B-LOC', 'O', 'O', 'O']\n"
     ]
    }
   ],
   "source": [
    "print(tokens[0])\n",
    "print(tags[0])\n",
    "print(\"\\n\")\n",
    "print(newtokens[0])\n",
    "print(newtags[0])\n",
    "print(\"\\n\")\n",
    "print(newtokens2[0])\n",
    "print(newtags2[0])"
   ]
  },
  {
   "cell_type": "code",
   "execution_count": 7,
   "id": "7cd56f06",
   "metadata": {
    "execution": {
     "iopub.execute_input": "2023-07-11T14:56:25.992472Z",
     "iopub.status.busy": "2023-07-11T14:56:25.991766Z",
     "iopub.status.idle": "2023-07-11T14:56:25.998448Z",
     "shell.execute_reply": "2023-07-11T14:56:25.997598Z"
    },
    "papermill": {
     "duration": 0.024167,
     "end_time": "2023-07-11T14:56:26.000898",
     "exception": false,
     "start_time": "2023-07-11T14:56:25.976731",
     "status": "completed"
    },
    "tags": []
   },
   "outputs": [
    {
     "name": "stdout",
     "output_type": "stream",
     "text": [
      "23889 23889\n"
     ]
    }
   ],
   "source": [
    "# concatenating\n",
    "tokens = tokens + newtokens + newtokens2\n",
    "tags = tags + newtags + newtags2\n",
    "print(len(tokens),len(tags))"
   ]
  },
  {
   "cell_type": "code",
   "execution_count": 8,
   "id": "bc83a653",
   "metadata": {
    "execution": {
     "iopub.execute_input": "2023-07-11T14:56:26.030615Z",
     "iopub.status.busy": "2023-07-11T14:56:26.029856Z",
     "iopub.status.idle": "2023-07-11T14:56:26.069449Z",
     "shell.execute_reply": "2023-07-11T14:56:26.068447Z"
    },
    "papermill": {
     "duration": 0.056628,
     "end_time": "2023-07-11T14:56:26.071619",
     "exception": false,
     "start_time": "2023-07-11T14:56:26.014991",
     "status": "completed"
    },
    "tags": []
   },
   "outputs": [
    {
     "name": "stdout",
     "output_type": "stream",
     "text": [
      "23889\n"
     ]
    },
    {
     "data": {
      "text/html": [
       "<div>\n",
       "<style scoped>\n",
       "    .dataframe tbody tr th:only-of-type {\n",
       "        vertical-align: middle;\n",
       "    }\n",
       "\n",
       "    .dataframe tbody tr th {\n",
       "        vertical-align: top;\n",
       "    }\n",
       "\n",
       "    .dataframe thead th {\n",
       "        text-align: right;\n",
       "    }\n",
       "</style>\n",
       "<table border=\"1\" class=\"dataframe\">\n",
       "  <thead>\n",
       "    <tr style=\"text-align: right;\">\n",
       "      <th></th>\n",
       "      <th>tokens</th>\n",
       "      <th>tags</th>\n",
       "    </tr>\n",
       "  </thead>\n",
       "  <tbody>\n",
       "    <tr>\n",
       "      <th>0</th>\n",
       "      <td>[\\ufeffউন্নয়নের, বিস্ময়, বাংলাদেশ, বাংলাদেশের,...</td>\n",
       "      <td>[O, O, B-LOC, B-LOC, O, O, O, O, O]</td>\n",
       "    </tr>\n",
       "    <tr>\n",
       "      <th>1</th>\n",
       "      <td>[অর্থনীতি, ও, আর্থসামাজিক, বেশির, ভাগ, সূচকে, ...</td>\n",
       "      <td>[O, O, O, O, O, O, B-LOC, O, O, B-LOC, I-LOC, O]</td>\n",
       "    </tr>\n",
       "    <tr>\n",
       "      <th>2</th>\n",
       "      <td>[নিম্ন, আয়ের, দেশগুলোকে, ছাড়িয়েছে, তো, অনেক, আ...</td>\n",
       "      <td>[O, O, O, O, O, O, O, O]</td>\n",
       "    </tr>\n",
       "    <tr>\n",
       "      <th>3</th>\n",
       "      <td>[সবাইকে, অন্তর্ভুক্ত, করে, প্রবৃদ্ধি, অর্জনের,...</td>\n",
       "      <td>[O, O, O, O, O, O, B-LOC, O, O, O, O, O, B-LOC...</td>\n",
       "    </tr>\n",
       "    <tr>\n",
       "      <th>4</th>\n",
       "      <td>[তবে, অন্তর্ভুক্তিমূলক, প্রবৃদ্ধি, অর্জনে, বাং...</td>\n",
       "      <td>[O, O, O, O, B-LOC, O, O, O, O, O, O, O, O, O, O]</td>\n",
       "    </tr>\n",
       "  </tbody>\n",
       "</table>\n",
       "</div>"
      ],
      "text/plain": [
       "                                              tokens  \\\n",
       "0  [\\ufeffউন্নয়নের, বিস্ময়, বাংলাদেশ, বাংলাদেশের,...   \n",
       "1  [অর্থনীতি, ও, আর্থসামাজিক, বেশির, ভাগ, সূচকে, ...   \n",
       "2  [নিম্ন, আয়ের, দেশগুলোকে, ছাড়িয়েছে, তো, অনেক, আ...   \n",
       "3  [সবাইকে, অন্তর্ভুক্ত, করে, প্রবৃদ্ধি, অর্জনের,...   \n",
       "4  [তবে, অন্তর্ভুক্তিমূলক, প্রবৃদ্ধি, অর্জনে, বাং...   \n",
       "\n",
       "                                                tags  \n",
       "0                [O, O, B-LOC, B-LOC, O, O, O, O, O]  \n",
       "1   [O, O, O, O, O, O, B-LOC, O, O, B-LOC, I-LOC, O]  \n",
       "2                           [O, O, O, O, O, O, O, O]  \n",
       "3  [O, O, O, O, O, O, B-LOC, O, O, O, O, O, B-LOC...  \n",
       "4  [O, O, O, O, B-LOC, O, O, O, O, O, O, O, O, O, O]  "
      ]
     },
     "execution_count": 8,
     "metadata": {},
     "output_type": "execute_result"
    }
   ],
   "source": [
    "# converting to a dataframe\n",
    "df = pd.DataFrame(columns=['tokens', 'tags'])\n",
    "df.tokens = tokens\n",
    "df.tags = tags\n",
    "print(len(df))\n",
    "df.head(5)"
   ]
  },
  {
   "cell_type": "markdown",
   "id": "5923cabb",
   "metadata": {
    "papermill": {
     "duration": 0.014101,
     "end_time": "2023-07-11T14:56:26.100606",
     "exception": false,
     "start_time": "2023-07-11T14:56:26.086505",
     "status": "completed"
    },
    "tags": []
   },
   "source": [
    "* generating flag for sentences containing persons"
   ]
  },
  {
   "cell_type": "code",
   "execution_count": 9,
   "id": "f1788aad",
   "metadata": {
    "execution": {
     "iopub.execute_input": "2023-07-11T14:56:26.130993Z",
     "iopub.status.busy": "2023-07-11T14:56:26.130179Z",
     "iopub.status.idle": "2023-07-11T14:56:28.408395Z",
     "shell.execute_reply": "2023-07-11T14:56:28.407298Z"
    },
    "papermill": {
     "duration": 2.296178,
     "end_time": "2023-07-11T14:56:28.411008",
     "exception": false,
     "start_time": "2023-07-11T14:56:26.114830",
     "status": "completed"
    },
    "tags": []
   },
   "outputs": [
    {
     "name": "stdout",
     "output_type": "stream",
     "text": [
      "6142\n",
      "17747\n",
      "23889\n",
      "6142\n"
     ]
    }
   ],
   "source": [
    "tags   = df[\"tags\"].tolist()\n",
    "\n",
    "yIDX = []\n",
    "for idx in range(len(tags)):\n",
    "    demo = tags[idx]\n",
    "    c = 0\n",
    "    for j in range(len(demo)):\n",
    "        #print(demo[j])\n",
    "        if demo[j]=='B-PER' or demo[j]=='I-PER':\n",
    "            c=1\n",
    "    if c==1:\n",
    "        yIDX.append(idx)\n",
    "\n",
    "print(len(yIDX)) # extracted all sentences containing yes\n",
    "\n",
    "nIDX = []\n",
    "for idx in range(len(tags)):\n",
    "    if idx not in yIDX:\n",
    "        nIDX.append(idx)\n",
    "print(len(nIDX))# extracted all sentences containing no\n",
    "print(len(tags))\n",
    "\n",
    "######## new column with class number\n",
    "isYes = []\n",
    "for i in range(len(tags)):\n",
    "    if i in yIDX:\n",
    "        isYes.append(1)\n",
    "    else:\n",
    "        isYes.append(0)\n",
    "print(sum(isYes))"
   ]
  },
  {
   "cell_type": "code",
   "execution_count": 10,
   "id": "ae493975",
   "metadata": {
    "execution": {
     "iopub.execute_input": "2023-07-11T14:56:28.442750Z",
     "iopub.status.busy": "2023-07-11T14:56:28.442442Z",
     "iopub.status.idle": "2023-07-11T14:56:28.468404Z",
     "shell.execute_reply": "2023-07-11T14:56:28.467396Z"
    },
    "papermill": {
     "duration": 0.044283,
     "end_time": "2023-07-11T14:56:28.470797",
     "exception": false,
     "start_time": "2023-07-11T14:56:28.426514",
     "status": "completed"
    },
    "tags": []
   },
   "outputs": [
    {
     "data": {
      "text/html": [
       "<div>\n",
       "<style scoped>\n",
       "    .dataframe tbody tr th:only-of-type {\n",
       "        vertical-align: middle;\n",
       "    }\n",
       "\n",
       "    .dataframe tbody tr th {\n",
       "        vertical-align: top;\n",
       "    }\n",
       "\n",
       "    .dataframe thead th {\n",
       "        text-align: right;\n",
       "    }\n",
       "</style>\n",
       "<table border=\"1\" class=\"dataframe\">\n",
       "  <thead>\n",
       "    <tr style=\"text-align: right;\">\n",
       "      <th></th>\n",
       "      <th>tokens</th>\n",
       "      <th>tags</th>\n",
       "      <th>flag</th>\n",
       "    </tr>\n",
       "  </thead>\n",
       "  <tbody>\n",
       "    <tr>\n",
       "      <th>0</th>\n",
       "      <td>[\\ufeffউন্নয়নের, বিস্ময়, বাংলাদেশ, বাংলাদেশের,...</td>\n",
       "      <td>[O, O, B-LOC, B-LOC, O, O, O, O, O]</td>\n",
       "      <td>0</td>\n",
       "    </tr>\n",
       "    <tr>\n",
       "      <th>1</th>\n",
       "      <td>[অর্থনীতি, ও, আর্থসামাজিক, বেশির, ভাগ, সূচকে, ...</td>\n",
       "      <td>[O, O, O, O, O, O, B-LOC, O, O, B-LOC, I-LOC, O]</td>\n",
       "      <td>0</td>\n",
       "    </tr>\n",
       "    <tr>\n",
       "      <th>2</th>\n",
       "      <td>[নিম্ন, আয়ের, দেশগুলোকে, ছাড়িয়েছে, তো, অনেক, আ...</td>\n",
       "      <td>[O, O, O, O, O, O, O, O]</td>\n",
       "      <td>0</td>\n",
       "    </tr>\n",
       "    <tr>\n",
       "      <th>3</th>\n",
       "      <td>[সবাইকে, অন্তর্ভুক্ত, করে, প্রবৃদ্ধি, অর্জনের,...</td>\n",
       "      <td>[O, O, O, O, O, O, B-LOC, O, O, O, O, O, B-LOC...</td>\n",
       "      <td>0</td>\n",
       "    </tr>\n",
       "    <tr>\n",
       "      <th>4</th>\n",
       "      <td>[তবে, অন্তর্ভুক্তিমূলক, প্রবৃদ্ধি, অর্জনে, বাং...</td>\n",
       "      <td>[O, O, O, O, B-LOC, O, O, O, O, O, O, O, O, O, O]</td>\n",
       "      <td>0</td>\n",
       "    </tr>\n",
       "  </tbody>\n",
       "</table>\n",
       "</div>"
      ],
      "text/plain": [
       "                                              tokens  \\\n",
       "0  [\\ufeffউন্নয়নের, বিস্ময়, বাংলাদেশ, বাংলাদেশের,...   \n",
       "1  [অর্থনীতি, ও, আর্থসামাজিক, বেশির, ভাগ, সূচকে, ...   \n",
       "2  [নিম্ন, আয়ের, দেশগুলোকে, ছাড়িয়েছে, তো, অনেক, আ...   \n",
       "3  [সবাইকে, অন্তর্ভুক্ত, করে, প্রবৃদ্ধি, অর্জনের,...   \n",
       "4  [তবে, অন্তর্ভুক্তিমূলক, প্রবৃদ্ধি, অর্জনে, বাং...   \n",
       "\n",
       "                                                tags  flag  \n",
       "0                [O, O, B-LOC, B-LOC, O, O, O, O, O]     0  \n",
       "1   [O, O, O, O, O, O, B-LOC, O, O, B-LOC, I-LOC, O]     0  \n",
       "2                           [O, O, O, O, O, O, O, O]     0  \n",
       "3  [O, O, O, O, O, O, B-LOC, O, O, O, O, O, B-LOC...     0  \n",
       "4  [O, O, O, O, B-LOC, O, O, O, O, O, O, O, O, O, O]     0  "
      ]
     },
     "execution_count": 10,
     "metadata": {},
     "output_type": "execute_result"
    }
   ],
   "source": [
    "df['flag'] = isYes\n",
    "df.head(5)"
   ]
  },
  {
   "cell_type": "code",
   "execution_count": 11,
   "id": "13487f5e",
   "metadata": {
    "execution": {
     "iopub.execute_input": "2023-07-11T14:56:28.502700Z",
     "iopub.status.busy": "2023-07-11T14:56:28.501908Z",
     "iopub.status.idle": "2023-07-11T14:56:28.506242Z",
     "shell.execute_reply": "2023-07-11T14:56:28.505381Z"
    },
    "papermill": {
     "duration": 0.022357,
     "end_time": "2023-07-11T14:56:28.508301",
     "exception": false,
     "start_time": "2023-07-11T14:56:28.485944",
     "status": "completed"
    },
    "tags": []
   },
   "outputs": [],
   "source": [
    "# saving to a csv file\n",
    "#df.to_csv('concatened-augmented-ner-bangla-ds.csv',index=False)"
   ]
  },
  {
   "cell_type": "markdown",
   "id": "899dd992",
   "metadata": {
    "papermill": {
     "duration": 0.014845,
     "end_time": "2023-07-11T14:56:28.538118",
     "exception": false,
     "start_time": "2023-07-11T14:56:28.523273",
     "status": "completed"
    },
    "tags": []
   },
   "source": [
    "## splitting dataset"
   ]
  },
  {
   "cell_type": "code",
   "execution_count": 12,
   "id": "86563c64",
   "metadata": {
    "execution": {
     "iopub.execute_input": "2023-07-11T14:56:28.569117Z",
     "iopub.status.busy": "2023-07-11T14:56:28.568807Z",
     "iopub.status.idle": "2023-07-11T14:56:28.591578Z",
     "shell.execute_reply": "2023-07-11T14:56:28.590613Z"
    },
    "papermill": {
     "duration": 0.040856,
     "end_time": "2023-07-11T14:56:28.593682",
     "exception": false,
     "start_time": "2023-07-11T14:56:28.552826",
     "status": "completed"
    },
    "tags": []
   },
   "outputs": [
    {
     "name": "stdout",
     "output_type": "stream",
     "text": [
      "19111 3822 956\n"
     ]
    }
   ],
   "source": [
    "# train_test split depending on \"flag\" column\n",
    "valid_split = 0.2\n",
    "test_split = 0.25\n",
    "train_df, val_df = train_test_split(df, test_size=valid_split,random_state=42, stratify=df['flag'],shuffle=True)\n",
    "val_df, test_df = train_test_split(val_df, test_size=valid_split,random_state=42,shuffle=True)\n",
    "\n",
    "print(len(train_df),len(val_df),len(test_df))"
   ]
  },
  {
   "cell_type": "code",
   "execution_count": 13,
   "id": "2c89bd4a",
   "metadata": {
    "execution": {
     "iopub.execute_input": "2023-07-11T14:56:28.625645Z",
     "iopub.status.busy": "2023-07-11T14:56:28.624846Z",
     "iopub.status.idle": "2023-07-11T14:56:28.631325Z",
     "shell.execute_reply": "2023-07-11T14:56:28.630471Z"
    },
    "papermill": {
     "duration": 0.024525,
     "end_time": "2023-07-11T14:56:28.633302",
     "exception": false,
     "start_time": "2023-07-11T14:56:28.608777",
     "status": "completed"
    },
    "tags": []
   },
   "outputs": [],
   "source": [
    "def preprocessing_token_tags(df,reverse_mapping):\n",
    "    tokens = df[\"tokens\"].tolist()\n",
    "    tags   = df[\"tags\"].tolist()\n",
    "\n",
    "    ######## tags\n",
    "    newTags = []\n",
    "    for idx in range(len(tags)):\n",
    "        demo = tags[idx]\n",
    "\n",
    "        for j in range(len(demo)):\n",
    "            demo[j] = reverse_mapping[demo[j]]\n",
    "\n",
    "        newTags.append(demo)\n",
    "\n",
    "    return tokens,newTags\n",
    "\n",
    "#train_tokens,train_tags = preprocessing_token_tags(train_df)\n",
    "#val_tokens,val_tags = preprocessing_token_tags(val_df)\n",
    "#print(len(train_tokens),len(train_tags))\n",
    "#print(len(val_tokens),len(val_tags))\n",
    "\n",
    "#print(train_tokens[5])\n",
    "#print(train_tags[5])"
   ]
  },
  {
   "cell_type": "code",
   "execution_count": 14,
   "id": "fdf8d23e",
   "metadata": {
    "execution": {
     "iopub.execute_input": "2023-07-11T14:56:28.665035Z",
     "iopub.status.busy": "2023-07-11T14:56:28.664293Z",
     "iopub.status.idle": "2023-07-11T14:56:28.669780Z",
     "shell.execute_reply": "2023-07-11T14:56:28.668962Z"
    },
    "papermill": {
     "duration": 0.023364,
     "end_time": "2023-07-11T14:56:28.671723",
     "exception": false,
     "start_time": "2023-07-11T14:56:28.648359",
     "status": "completed"
    },
    "tags": []
   },
   "outputs": [],
   "source": [
    "# so that multiple occurance of tab cannot happen\n",
    "def reducing_mulOcc(text):\n",
    "    processed_text = \"\"\n",
    "    previous_char = \"\"\n",
    "\n",
    "    for char in text:\n",
    "        if char == \"\\t\":\n",
    "            if char != previous_char:\n",
    "                processed_text += char\n",
    "        else:\n",
    "            processed_text += char\n",
    "\n",
    "        previous_char = char\n",
    "    return processed_text"
   ]
  },
  {
   "cell_type": "markdown",
   "id": "d76d3861",
   "metadata": {
    "papermill": {
     "duration": 0.014646,
     "end_time": "2023-07-11T14:56:28.701231",
     "exception": false,
     "start_time": "2023-07-11T14:56:28.686585",
     "status": "completed"
    },
    "tags": []
   },
   "source": [
    "### making ner lookup table"
   ]
  },
  {
   "cell_type": "code",
   "execution_count": 15,
   "id": "ce05e51c",
   "metadata": {
    "execution": {
     "iopub.execute_input": "2023-07-11T14:56:28.732584Z",
     "iopub.status.busy": "2023-07-11T14:56:28.731837Z",
     "iopub.status.idle": "2023-07-11T14:56:28.742535Z",
     "shell.execute_reply": "2023-07-11T14:56:28.741377Z"
    },
    "papermill": {
     "duration": 0.028406,
     "end_time": "2023-07-11T14:56:28.744472",
     "exception": false,
     "start_time": "2023-07-11T14:56:28.716066",
     "status": "completed"
    },
    "tags": []
   },
   "outputs": [
    {
     "name": "stdout",
     "output_type": "stream",
     "text": [
      "{0: '[PAD]', 1: 'O', 2: 'B-PER', 3: 'I-PER', 4: 'B-ORG', 5: 'I-ORG', 6: 'B-LOC', 7: 'I-LOC'}\n",
      "{'O': 0, 'B-PER': 1, 'I-PER': 2, 'B-ORG': 3, 'I-ORG': 4, 'B-LOC': 5, 'I-LOC': 6}\n"
     ]
    }
   ],
   "source": [
    "def make_tag_lookup_table():\n",
    "    iob_labels = [\"B\", \"I\"]\n",
    "    ner_labels = [\"PER\", \"ORG\", \"LOC\"]\n",
    "    all_labels = [(label1, label2) for label2 in ner_labels for label1 in iob_labels]\n",
    "    all_labels = [\"-\".join([a, b]) for a, b in all_labels]\n",
    "    all_labels = [\"[PAD]\", \"O\"] + all_labels\n",
    "    return dict(zip(range(0, len(all_labels) + 1), all_labels))\n",
    "\n",
    "def reverse_make_tag_lookup_table():\n",
    "    iob_labels = [\"B\", \"I\"]\n",
    "    ner_labels = [\"PER\", \"ORG\", \"LOC\"]\n",
    "    all_labels = [(label1, label2) for label2 in ner_labels for label1 in iob_labels]\n",
    "    all_labels = [\"-\".join([a, b]) for a, b in all_labels]\n",
    "    all_labels = [\"O\"] + all_labels\n",
    "    return dict(zip(all_labels,range(0, len(all_labels) + 1)))\n",
    "\n",
    "\n",
    "mapping = make_tag_lookup_table()\n",
    "print(mapping)\n",
    "reverse_mapping = reverse_make_tag_lookup_table()\n",
    "print(reverse_mapping)"
   ]
  },
  {
   "cell_type": "code",
   "execution_count": 16,
   "id": "5525a8bc",
   "metadata": {
    "execution": {
     "iopub.execute_input": "2023-07-11T14:56:28.778664Z",
     "iopub.status.busy": "2023-07-11T14:56:28.777900Z",
     "iopub.status.idle": "2023-07-11T14:56:28.784620Z",
     "shell.execute_reply": "2023-07-11T14:56:28.783452Z"
    },
    "papermill": {
     "duration": 0.026963,
     "end_time": "2023-07-11T14:56:28.786605",
     "exception": false,
     "start_time": "2023-07-11T14:56:28.759642",
     "status": "completed"
    },
    "tags": []
   },
   "outputs": [
    {
     "data": {
      "text/plain": [
       "['[PAD]', 'O', 'B-PER', 'I-PER', 'B-ORG', 'I-ORG', 'B-LOC', 'I-LOC']"
      ]
     },
     "execution_count": 16,
     "metadata": {},
     "output_type": "execute_result"
    }
   ],
   "source": [
    "list(mapping.values())"
   ]
  },
  {
   "cell_type": "code",
   "execution_count": 17,
   "id": "83040283",
   "metadata": {
    "execution": {
     "iopub.execute_input": "2023-07-11T14:56:28.818467Z",
     "iopub.status.busy": "2023-07-11T14:56:28.817810Z",
     "iopub.status.idle": "2023-07-11T14:56:29.788277Z",
     "shell.execute_reply": "2023-07-11T14:56:29.786722Z"
    },
    "papermill": {
     "duration": 0.989153,
     "end_time": "2023-07-11T14:56:29.790845",
     "exception": false,
     "start_time": "2023-07-11T14:56:28.801692",
     "status": "completed"
    },
    "tags": []
   },
   "outputs": [
    {
     "name": "stdout",
     "output_type": "stream",
     "text": [
      "total number of sentneces 4847\n",
      "total number of sentneces 1027\n",
      "total number of sentneces 335\n",
      "59 19110\n",
      "23 3821\n",
      "2 955\n"
     ]
    }
   ],
   "source": [
    "# reading as tab-separated file format as it would be easier for tf.data.Dataset object\n",
    "def export_to_file(export_file_path, df,withoutYes):\n",
    "    mismatch = []\n",
    "    #withoutYes = 0#500\n",
    "    newcount = 0\n",
    "    with open(export_file_path, \"w\") as f:\n",
    "        tokens,tags = preprocessing_token_tags(df,reverse_mapping)\n",
    "        idx = 0\n",
    "        for token, tag in zip(tokens, tags):\n",
    "            if len(tokens) > 0 :\n",
    "                #text =  \"\\t\"+ \"\\t\".join(token)+ \"\\t\"+ \"\\t\".join(map(str, tag))+ \"\\n\"\n",
    "                #processed_text = reducing_mulOcc(text)\n",
    "                ##########\n",
    "                newtoken = \"\\t\".join(token) # taking new len\n",
    "                newtoken = reducing_mulOcc(newtoken)\n",
    "                newtoken = newtoken.split(\"\\t\")\n",
    "                #processed_text = str(len(newtoken))+processed_text\n",
    "\n",
    "                #########\n",
    "                newtag = \"\\t\".join(map(str, tag))\n",
    "                newtag = reducing_mulOcc(newtag)\n",
    "                newtag = newtag.split(\"\\t\")\n",
    "\n",
    "                text =  str(len(newtoken))+\"\\t\"+ \"\\t\".join(newtoken)+ \"\\t\"+ \"\\t\".join(map(str, newtag))+ \"\\n\"\n",
    "\n",
    "                #if idx == 0:\n",
    "                  #print(newtag)\n",
    "                # only taking the matched ones\n",
    "                if len(newtoken) != len(newtag):\n",
    "                    mismatch.append(idx)\n",
    "                else:\n",
    "                  # only taking the sentences containing \"yes\" to reduce imbalanceness\n",
    "                    \n",
    "                \n",
    "                    if \"1\" in newtag:\n",
    "                        f.write(text)\n",
    "                        newcount+=1\n",
    "                    else:\n",
    "                        if withoutYes>0:\n",
    "                            f.write(text)\n",
    "                            newcount+=1\n",
    "                            withoutYes-=1\n",
    "\n",
    "            idx+=1\n",
    "    print(\"total number of sentneces %d\"%newcount)\n",
    "    return mismatch,idx-1\n",
    "\n",
    "############# one time is good I guess\n",
    "mistrain,totTrain = export_to_file(\"/kaggle/working/bangla_ner_train.txt\", train_df,200)#500\n",
    "misval,totVal     = export_to_file(\"/kaggle/working/bangla_ner_val.txt\", val_df,100)#500\n",
    "mistest,totTest     = export_to_file(\"/kaggle/working/bangla_ner_test.txt\", test_df,100)#500\n",
    "\n",
    "print(len(mistrain),totTrain)\n",
    "print(len(misval),totVal)\n",
    "print(len(mistest),totTest)"
   ]
  },
  {
   "cell_type": "code",
   "execution_count": 18,
   "id": "d8bc33bf",
   "metadata": {
    "execution": {
     "iopub.execute_input": "2023-07-11T14:56:29.824842Z",
     "iopub.status.busy": "2023-07-11T14:56:29.823203Z",
     "iopub.status.idle": "2023-07-11T14:56:33.027129Z",
     "shell.execute_reply": "2023-07-11T14:56:33.026123Z"
    },
    "papermill": {
     "duration": 3.223129,
     "end_time": "2023-07-11T14:56:33.029576",
     "exception": false,
     "start_time": "2023-07-11T14:56:29.806447",
     "status": "completed"
    },
    "tags": []
   },
   "outputs": [
    {
     "name": "stdout",
     "output_type": "stream",
     "text": [
      "338435\n",
      "17501\n"
     ]
    }
   ],
   "source": [
    "all_tokens_array = []\n",
    "for i in range(len(tokens)):\n",
    "    demo = tokens[i]\n",
    "    for j in range(len(demo)):\n",
    "        all_tokens_array.append(demo[j])\n",
    "\n",
    "print(len(all_tokens_array))\n",
    "###########\n",
    "counter = Counter(all_tokens_array)\n",
    "print(len(counter))\n",
    "\n",
    "num_tags = len(mapping)\n",
    "vocab_size = 20000 # number of common words that will be taken\n",
    "\n",
    "vocabulary = [token for token, count in counter.most_common(vocab_size - 2)]\n",
    "\n",
    "# The StringLook class will convert tokens to token IDs\n",
    "lookup_layer = keras.layers.StringLookup(\n",
    "    vocabulary=vocabulary\n",
    ")"
   ]
  },
  {
   "cell_type": "code",
   "execution_count": 19,
   "id": "81c6d6df",
   "metadata": {
    "execution": {
     "iopub.execute_input": "2023-07-11T14:56:33.062738Z",
     "iopub.status.busy": "2023-07-11T14:56:33.061920Z",
     "iopub.status.idle": "2023-07-11T14:56:33.104361Z",
     "shell.execute_reply": "2023-07-11T14:56:33.103483Z"
    },
    "papermill": {
     "duration": 0.061141,
     "end_time": "2023-07-11T14:56:33.106594",
     "exception": false,
     "start_time": "2023-07-11T14:56:33.045453",
     "status": "completed"
    },
    "tags": []
   },
   "outputs": [],
   "source": [
    "train_data = tf.data.TextLineDataset(\"/kaggle/working/bangla_ner_train.txt\")\n",
    "val_data = tf.data.TextLineDataset(\"/kaggle/working/bangla_ner_val.txt\")\n",
    "test_data = tf.data.TextLineDataset(\"/kaggle/working/bangla_ner_test.txt\")"
   ]
  },
  {
   "cell_type": "code",
   "execution_count": 20,
   "id": "90fd4816",
   "metadata": {
    "execution": {
     "iopub.execute_input": "2023-07-11T14:56:33.139242Z",
     "iopub.status.busy": "2023-07-11T14:56:33.138960Z",
     "iopub.status.idle": "2023-07-11T14:56:33.592380Z",
     "shell.execute_reply": "2023-07-11T14:56:33.591426Z"
    },
    "papermill": {
     "duration": 0.47242,
     "end_time": "2023-07-11T14:56:33.594810",
     "exception": false,
     "start_time": "2023-07-11T14:56:33.122390",
     "status": "completed"
    },
    "tags": []
   },
   "outputs": [],
   "source": [
    "def map_record_to_training_data(record):\n",
    "    record = tf.strings.split(record, sep=\"\\t\")\n",
    "    length = tf.strings.to_number(record[0], out_type=tf.int32)\n",
    "    tokens = record[1 : length + 1]\n",
    "    tags = record[length + 1 :]\n",
    "    tags = tf.strings.to_number(tags, out_type=tf.int64)\n",
    "    tags += 1\n",
    "    return tokens, tags\n",
    "\n",
    "\n",
    "def lowercase_and_convert_to_ids(tokens):\n",
    "    tokens = tf.strings.lower(tokens)\n",
    "    return lookup_layer(tokens)\n",
    "\n",
    "\n",
    "# We use `padded_batch` here because each record in the dataset has a\n",
    "# different length.\n",
    "batch_size = 8#4#32\n",
    "train_dataset = (\n",
    "    train_data.map(map_record_to_training_data)\n",
    "    .map(lambda x, y: (lowercase_and_convert_to_ids(x), y))\n",
    "    .padded_batch(batch_size)\n",
    ")\n",
    "val_dataset = (\n",
    "    val_data.map(map_record_to_training_data)\n",
    "    .map(lambda x, y: (lowercase_and_convert_to_ids(x), y))\n",
    "    .padded_batch(batch_size)\n",
    ")\n",
    "\n",
    "test_dataset = (\n",
    "    test_data.map(map_record_to_training_data)\n",
    "    .map(lambda x, y: (lowercase_and_convert_to_ids(x), y))\n",
    "    .padded_batch(batch_size)\n",
    ")"
   ]
  },
  {
   "cell_type": "markdown",
   "id": "f99c7284",
   "metadata": {
    "papermill": {
     "duration": 0.015496,
     "end_time": "2023-07-11T14:56:33.626108",
     "exception": false,
     "start_time": "2023-07-11T14:56:33.610612",
     "status": "completed"
    },
    "tags": []
   },
   "source": [
    "# Training Pipeline"
   ]
  },
  {
   "cell_type": "code",
   "execution_count": 21,
   "id": "cc88926f",
   "metadata": {
    "execution": {
     "iopub.execute_input": "2023-07-11T14:56:33.658434Z",
     "iopub.status.busy": "2023-07-11T14:56:33.658104Z",
     "iopub.status.idle": "2023-07-11T14:56:33.667625Z",
     "shell.execute_reply": "2023-07-11T14:56:33.666774Z"
    },
    "papermill": {
     "duration": 0.02809,
     "end_time": "2023-07-11T14:56:33.669630",
     "exception": false,
     "start_time": "2023-07-11T14:56:33.641540",
     "status": "completed"
    },
    "tags": []
   },
   "outputs": [],
   "source": [
    "class TransformerBlock(layers.Layer):\n",
    "    def __init__(self, embed_dim, num_heads, ff_dim, rate=0.1):\n",
    "        super().__init__()\n",
    "        self.att = keras.layers.MultiHeadAttention(\n",
    "            num_heads=num_heads, key_dim=embed_dim\n",
    "        )\n",
    "        self.ffn = keras.Sequential(\n",
    "            [\n",
    "                keras.layers.Dense(ff_dim, activation=\"relu\"),\n",
    "                keras.layers.Dense(embed_dim),\n",
    "            ]\n",
    "        )\n",
    "        self.layernorm1 = keras.layers.LayerNormalization(epsilon=1e-6)\n",
    "        self.layernorm2 = keras.layers.LayerNormalization(epsilon=1e-6)\n",
    "        self.dropout1 = keras.layers.Dropout(rate)\n",
    "        self.dropout2 = keras.layers.Dropout(rate)\n",
    "\n",
    "    def call(self, inputs, training=False):\n",
    "        attn_output = self.att(inputs, inputs)\n",
    "        attn_output = self.dropout1(attn_output, training=training)\n",
    "        out1 = self.layernorm1(inputs + attn_output)\n",
    "        ffn_output = self.ffn(out1)\n",
    "        ffn_output = self.dropout2(ffn_output, training=training)\n",
    "        return self.layernorm2(out1 + ffn_output)"
   ]
  },
  {
   "cell_type": "code",
   "execution_count": 22,
   "id": "c32077a6",
   "metadata": {
    "execution": {
     "iopub.execute_input": "2023-07-11T14:56:33.702264Z",
     "iopub.status.busy": "2023-07-11T14:56:33.701418Z",
     "iopub.status.idle": "2023-07-11T14:56:33.708195Z",
     "shell.execute_reply": "2023-07-11T14:56:33.707306Z"
    },
    "papermill": {
     "duration": 0.025279,
     "end_time": "2023-07-11T14:56:33.710216",
     "exception": false,
     "start_time": "2023-07-11T14:56:33.684937",
     "status": "completed"
    },
    "tags": []
   },
   "outputs": [],
   "source": [
    "class TokenAndPositionEmbedding(layers.Layer):\n",
    "    def __init__(self, maxlen, vocab_size, embed_dim):\n",
    "        super().__init__()\n",
    "        self.token_emb = keras.layers.Embedding(\n",
    "            input_dim=vocab_size, output_dim=embed_dim\n",
    "        )\n",
    "        self.pos_emb = keras.layers.Embedding(input_dim=maxlen, output_dim=embed_dim)\n",
    "\n",
    "    def call(self, inputs):\n",
    "        maxlen = tf.shape(inputs)[-1]\n",
    "        positions = tf.range(start=0, limit=maxlen, delta=1)\n",
    "        position_embeddings = self.pos_emb(positions)\n",
    "        token_embeddings = self.token_emb(inputs)\n",
    "        return token_embeddings + position_embeddings"
   ]
  },
  {
   "cell_type": "code",
   "execution_count": 23,
   "id": "7e3280e7",
   "metadata": {
    "execution": {
     "iopub.execute_input": "2023-07-11T14:56:33.742475Z",
     "iopub.status.busy": "2023-07-11T14:56:33.742189Z",
     "iopub.status.idle": "2023-07-11T14:56:33.758237Z",
     "shell.execute_reply": "2023-07-11T14:56:33.757291Z"
    },
    "papermill": {
     "duration": 0.034905,
     "end_time": "2023-07-11T14:56:33.760324",
     "exception": false,
     "start_time": "2023-07-11T14:56:33.725419",
     "status": "completed"
    },
    "tags": []
   },
   "outputs": [],
   "source": [
    "class NERModel(keras.Model):\n",
    "    def __init__(\n",
    "        self, num_tags, vocab_size, maxlen=128, embed_dim=32, num_heads=2, ff_dim=32# maxlen = 200\n",
    "    ):\n",
    "        super().__init__()\n",
    "        self.embedding_layer = TokenAndPositionEmbedding(maxlen, vocab_size, embed_dim)\n",
    "        self.transformer_block = TransformerBlock(embed_dim, num_heads, ff_dim)\n",
    "        self.transformer_block2 = TransformerBlock(embed_dim, num_heads, ff_dim)\n",
    "        self.dropout1 = layers.Dropout(0.1)\n",
    "        self.dropout1_1 = layers.Dropout(0.1)\n",
    "        ###############\n",
    "        self.conv1d = tf.keras.layers.Conv1D(filters=ff_dim, kernel_size=3, padding='same', activation='relu')\n",
    "        self.bn1    = tf.keras.layers.BatchNormalization()\n",
    "        self.relu   = tf.keras.layers.ReLU()\n",
    "        self.dropout3 = tf.keras.layers.Dropout(0.1)\n",
    "        \n",
    "        self.conv1d2 = tf.keras.layers.Conv1D(filters=ff_dim, kernel_size=3, padding='same', activation='relu')\n",
    "        self.bn2    = tf.keras.layers.BatchNormalization()\n",
    "        self.relu2   = tf.keras.layers.ReLU()\n",
    "        self.dropout32 = tf.keras.layers.Dropout(0.1)\n",
    "        \n",
    "        self.lstm = tf.keras.layers.LSTM(units=ff_dim, return_sequences=True,\n",
    "                                        kernel_initializer=initializers.glorot_uniform()\n",
    "                                        )#True\n",
    "        self.dropout4 = tf.keras.layers.Dropout(0.1)\n",
    "        \n",
    "        ##########\n",
    "        self.ff = layers.Dense(ff_dim, activation=\"relu\")\n",
    "        self.ff2 = layers.Dense(int(ff_dim/2), activation=\"relu\")\n",
    "        self.dropout2 = layers.Dropout(0.25)# 0.1\n",
    "        self.ff_final = layers.Dense(num_tags, activation=\"softmax\")\n",
    "\n",
    "    def call(self, inputs, training=False):\n",
    "        x = self.embedding_layer(inputs)\n",
    "        x = self.transformer_block(x)\n",
    "        x = self.dropout1(x, training=training)\n",
    "        ########\n",
    "        x = self.transformer_block2(x)\n",
    "        x = self.dropout1_1(x, training=training)\n",
    "        ###########\n",
    "        x = self.conv1d(x)\n",
    "        x = self.bn1(x)\n",
    "        x = self.relu(x)\n",
    "        x = self.dropout3(x, training=training)\n",
    "        \n",
    "        x = self.conv1d2(x)\n",
    "        x = self.bn2(x)\n",
    "        x = self.relu2(x)\n",
    "        x = self.dropout32(x, training=training)\n",
    "        \n",
    "        #x = self.lstm(x)\n",
    "        #x = self.dropout4(x, training=training)\n",
    "        \n",
    "        #########\n",
    "        x = self.ff(x)\n",
    "        x = self.ff2(x)\n",
    "        x = self.dropout2(x, training=training)\n",
    "        x = self.ff_final(x)\n",
    "        return x"
   ]
  },
  {
   "cell_type": "code",
   "execution_count": 24,
   "id": "fc6d0732",
   "metadata": {
    "execution": {
     "iopub.execute_input": "2023-07-11T14:56:33.793139Z",
     "iopub.status.busy": "2023-07-11T14:56:33.792449Z",
     "iopub.status.idle": "2023-07-11T14:56:33.861901Z",
     "shell.execute_reply": "2023-07-11T14:56:33.861010Z"
    },
    "papermill": {
     "duration": 0.087995,
     "end_time": "2023-07-11T14:56:33.863995",
     "exception": false,
     "start_time": "2023-07-11T14:56:33.776000",
     "status": "completed"
    },
    "tags": []
   },
   "outputs": [],
   "source": [
    "# initilizing the model\n",
    "ner_model = NERModel(num_tags, vocab_size, embed_dim=64, num_heads=4, ff_dim=64)#32"
   ]
  },
  {
   "cell_type": "markdown",
   "id": "eec7cc01",
   "metadata": {
    "papermill": {
     "duration": 0.014901,
     "end_time": "2023-07-11T14:56:33.894434",
     "exception": false,
     "start_time": "2023-07-11T14:56:33.879533",
     "status": "completed"
    },
    "tags": []
   },
   "source": [
    "### custom loss"
   ]
  },
  {
   "cell_type": "code",
   "execution_count": 25,
   "id": "1ad903c6",
   "metadata": {
    "execution": {
     "iopub.execute_input": "2023-07-11T14:56:33.927130Z",
     "iopub.status.busy": "2023-07-11T14:56:33.926334Z",
     "iopub.status.idle": "2023-07-11T14:56:33.935917Z",
     "shell.execute_reply": "2023-07-11T14:56:33.935098Z"
    },
    "papermill": {
     "duration": 0.02801,
     "end_time": "2023-07-11T14:56:33.938099",
     "exception": false,
     "start_time": "2023-07-11T14:56:33.910089",
     "status": "completed"
    },
    "tags": []
   },
   "outputs": [],
   "source": [
    "class CustomNonPaddingTokenLoss(keras.losses.Loss):\n",
    "    def __init__(self, name=\"custom_ner_loss\"):\n",
    "        super().__init__(name=name)\n",
    "\n",
    "    def call(self, y_true, y_pred):\n",
    "        loss_fn = keras.losses.SparseCategoricalCrossentropy(\n",
    "            from_logits=True, reduction=keras.losses.Reduction.NONE\n",
    "        )\n",
    "        loss = loss_fn(y_true, y_pred)\n",
    "        # discarding the padding\n",
    "        mask = tf.cast((y_true > 0), dtype=tf.float32)#tf.cast((y_true > 0), dtype=tf.float32)\n",
    "        loss = loss * mask\n",
    "        #######################\n",
    "        ##### Making effect of \"O\" lower\n",
    "        mask2 = tf.cast((y_true > 1), dtype=tf.float32)  # 0.5 loss for classes other than \"O\"\n",
    "        #loss = loss *0.9* mask2 + (1 - mask2) *0.1*  loss\n",
    "        \n",
    "        \n",
    "        ##################\n",
    "        mask3 = tf.cast((y_true == 2), dtype=tf.float32)\n",
    "        mask4 = tf.cast((y_true == 3), dtype=tf.float32)\n",
    "        \n",
    "        loss = loss *0.4* mask3+loss *0.4* mask4 +mask2 *0.04*  loss+ (1 - mask3) *0.08*  loss+(1 - mask4) *0.08*  loss\n",
    "        \n",
    "        # if possible add gradient seearch for this weight constant, it can be ratio I guess\n",
    "        #######################\n",
    "        return tf.reduce_sum(loss) / tf.reduce_sum(mask)\n",
    "\n",
    "\n",
    "loss = CustomNonPaddingTokenLoss()"
   ]
  },
  {
   "cell_type": "code",
   "execution_count": 26,
   "id": "ed7b4d0e",
   "metadata": {
    "execution": {
     "iopub.execute_input": "2023-07-11T14:56:33.969885Z",
     "iopub.status.busy": "2023-07-11T14:56:33.969143Z",
     "iopub.status.idle": "2023-07-11T14:56:34.226571Z",
     "shell.execute_reply": "2023-07-11T14:56:34.225548Z"
    },
    "papermill": {
     "duration": 0.275737,
     "end_time": "2023-07-11T14:56:34.228782",
     "exception": false,
     "start_time": "2023-07-11T14:56:33.953045",
     "status": "completed"
    },
    "tags": []
   },
   "outputs": [
    {
     "data": {
      "text/plain": [
       "0"
      ]
     },
     "execution_count": 26,
     "metadata": {},
     "output_type": "execute_result"
    }
   ],
   "source": [
    "gc.collect()"
   ]
  },
  {
   "cell_type": "markdown",
   "id": "3f472d63",
   "metadata": {
    "papermill": {
     "duration": 0.015598,
     "end_time": "2023-07-11T14:56:34.260323",
     "exception": false,
     "start_time": "2023-07-11T14:56:34.244725",
     "status": "completed"
    },
    "tags": []
   },
   "source": [
    "# Compile and fit model"
   ]
  },
  {
   "cell_type": "code",
   "execution_count": 27,
   "id": "cfa389de",
   "metadata": {
    "execution": {
     "iopub.execute_input": "2023-07-11T14:56:34.292502Z",
     "iopub.status.busy": "2023-07-11T14:56:34.292198Z",
     "iopub.status.idle": "2023-07-11T15:01:31.514400Z",
     "shell.execute_reply": "2023-07-11T15:01:31.513340Z"
    },
    "papermill": {
     "duration": 297.241463,
     "end_time": "2023-07-11T15:01:31.517044",
     "exception": false,
     "start_time": "2023-07-11T14:56:34.275581",
     "status": "completed"
    },
    "tags": []
   },
   "outputs": [
    {
     "name": "stdout",
     "output_type": "stream",
     "text": [
      "Epoch 1/15\n"
     ]
    },
    {
     "name": "stderr",
     "output_type": "stream",
     "text": [
      "/opt/conda/lib/python3.10/site-packages/keras/backend.py:5612: UserWarning: \"`sparse_categorical_crossentropy` received `from_logits=True`, but the `output` argument was produced by a Softmax activation and thus does not represent logits. Was this intended?\n",
      "  output, from_logits = _get_logits(\n"
     ]
    },
    {
     "name": "stdout",
     "output_type": "stream",
     "text": [
      "606/606 [==============================] - 68s 83ms/step - loss: 0.2409 - val_loss: 0.1671 - lr: 5.0000e-04\n",
      "Epoch 2/15\n",
      "606/606 [==============================] - 11s 19ms/step - loss: 0.1309 - val_loss: 0.0959 - lr: 5.0000e-04\n",
      "Epoch 3/15\n",
      "606/606 [==============================] - 11s 18ms/step - loss: 0.0793 - val_loss: 0.0806 - lr: 5.0000e-04\n",
      "Epoch 4/15\n",
      "606/606 [==============================] - 11s 19ms/step - loss: 0.0587 - val_loss: 0.0715 - lr: 5.0000e-04\n",
      "Epoch 5/15\n",
      "606/606 [==============================] - 11s 19ms/step - loss: 0.0476 - val_loss: 0.0630 - lr: 5.0000e-04\n",
      "Epoch 6/15\n",
      "606/606 [==============================] - 11s 18ms/step - loss: 0.0398 - val_loss: 0.0668 - lr: 5.0000e-04\n",
      "Epoch 7/15\n",
      "606/606 [==============================] - 11s 18ms/step - loss: 0.0340 - val_loss: 0.0701 - lr: 5.0000e-04\n",
      "Epoch 8/15\n",
      "606/606 [==============================] - 11s 19ms/step - loss: 0.0281 - val_loss: 0.0570 - lr: 5.0000e-04\n",
      "Epoch 9/15\n",
      "606/606 [==============================] - 11s 18ms/step - loss: 0.0257 - val_loss: 0.0597 - lr: 5.0000e-04\n",
      "Epoch 10/15\n",
      "606/606 [==============================] - 11s 19ms/step - loss: 0.0232 - val_loss: 0.0575 - lr: 5.0000e-04\n",
      "Epoch 11/15\n",
      "606/606 [==============================] - 11s 18ms/step - loss: 0.0204 - val_loss: 0.0600 - lr: 5.0000e-04\n",
      "Epoch 12/15\n",
      "606/606 [==============================] - 11s 18ms/step - loss: 0.0193 - val_loss: 0.0603 - lr: 5.0000e-04\n",
      "Epoch 13/15\n",
      "606/606 [==============================] - 11s 19ms/step - loss: 0.0181 - val_loss: 0.0617 - lr: 5.0000e-04\n",
      "Epoch 14/15\n",
      "606/606 [==============================] - 11s 18ms/step - loss: 0.0159 - val_loss: 0.0625 - lr: 5.0000e-04\n",
      "Epoch 15/15\n",
      "606/606 [==============================] - 11s 18ms/step - loss: 0.0160 - val_loss: 0.0688 - lr: 5.0000e-04\n"
     ]
    }
   ],
   "source": [
    "EPOCHS = 15\n",
    "\n",
    "weight_name = \"/kaggle/working/binary_baseline_2.h5\"\n",
    "lr_reduce = tf.keras.callbacks.ReduceLROnPlateau(monitor='loss', factor=0.5, patience=5, verbose=1, mode='min', min_lr=1e-9)\n",
    "mdlcheckpoint_cb = tf.keras.callbacks.ModelCheckpoint(weight_name, monitor=\"val_loss\", save_best_only=False,save_weights_only=True)#True\n",
    "#metric = [loss]\n",
    "\n",
    "ner_model.compile(optimizer=tf.keras.optimizers.AdamW(learning_rate=5e-4,weight_decay=0.1)#5e-3#0.001\n",
    "                  #tf.keras.optimizers.Adam(learning_rate=5e-3,weight_decay=0.1)##\"adam\"\n",
    "                  , loss=loss)#,metrics=metric#,metrics=[\"accuracy\"]\n",
    "history = ner_model.fit(train_dataset, epochs=EPOCHS,validation_data=val_dataset,callbacks=[lr_reduce,mdlcheckpoint_cb])#"
   ]
  },
  {
   "cell_type": "code",
   "execution_count": 28,
   "id": "28ef66a9",
   "metadata": {
    "execution": {
     "iopub.execute_input": "2023-07-11T15:01:31.941522Z",
     "iopub.status.busy": "2023-07-11T15:01:31.941155Z",
     "iopub.status.idle": "2023-07-11T15:01:32.251274Z",
     "shell.execute_reply": "2023-07-11T15:01:32.250371Z"
    },
    "papermill": {
     "duration": 0.524967,
     "end_time": "2023-07-11T15:01:32.253384",
     "exception": false,
     "start_time": "2023-07-11T15:01:31.728417",
     "status": "completed"
    },
    "tags": []
   },
   "outputs": [
    {
     "data": {
      "image/png": "[encoded data removed]",
      "text/plain": [
       "<Figure size 640x480 with 1 Axes>"
      ]
     },
     "metadata": {},
     "output_type": "display_data"
    }
   ],
   "source": [
    "# plotting loss\n",
    "plt.plot(history.history['loss'])\n",
    "plt.plot(history.history['val_loss'])\n",
    "plt.title('model loss')\n",
    "plt.ylabel('loss')\n",
    "plt.xlabel('epoch')\n",
    "plt.legend(['train', 'val'], loc='upper left')\n",
    "plt.show()"
   ]
  },
  {
   "cell_type": "markdown",
   "id": "8baf5cdc",
   "metadata": {
    "papermill": {
     "duration": 0.212002,
     "end_time": "2023-07-11T15:01:32.727249",
     "exception": false,
     "start_time": "2023-07-11T15:01:32.515247",
     "status": "completed"
    },
    "tags": []
   },
   "source": [
    "# Metrics calculation"
   ]
  },
  {
   "cell_type": "code",
   "execution_count": 29,
   "id": "4263945c",
   "metadata": {
    "execution": {
     "iopub.execute_input": "2023-07-11T15:01:33.156092Z",
     "iopub.status.busy": "2023-07-11T15:01:33.155739Z",
     "iopub.status.idle": "2023-07-11T15:01:33.220928Z",
     "shell.execute_reply": "2023-07-11T15:01:33.219897Z"
    },
    "papermill": {
     "duration": 0.281864,
     "end_time": "2023-07-11T15:01:33.223650",
     "exception": false,
     "start_time": "2023-07-11T15:01:32.941786",
     "status": "completed"
    },
    "tags": []
   },
   "outputs": [],
   "source": [
    "ner_model.load_weights(weight_name)"
   ]
  },
  {
   "cell_type": "code",
   "execution_count": 30,
   "id": "66164774",
   "metadata": {
    "execution": {
     "iopub.execute_input": "2023-07-11T15:01:33.651292Z",
     "iopub.status.busy": "2023-07-11T15:01:33.650922Z",
     "iopub.status.idle": "2023-07-11T15:01:33.676430Z",
     "shell.execute_reply": "2023-07-11T15:01:33.675476Z"
    },
    "papermill": {
     "duration": 0.239901,
     "end_time": "2023-07-11T15:01:33.678395",
     "exception": false,
     "start_time": "2023-07-11T15:01:33.438494",
     "status": "completed"
    },
    "tags": []
   },
   "outputs": [
    {
     "name": "stdout",
     "output_type": "stream",
     "text": [
      "6\tএতে\tশতাধিক\tশিক্ষার্থী\tঅংশ\tনেয়\t।\t0\t0\t0\t0\t0\t0\n",
      "6\n",
      "['6', 'এতে', 'শতাধিক', 'শিক্ষার্থী', 'অংশ', 'নেয়', '।', '0', '0', '0', '0', '0', '0']\n"
     ]
    },
    {
     "data": {
      "text/plain": [
       "'এতে শতাধিক শিক্ষার্থী অংশ নেয় ।'"
      ]
     },
     "execution_count": 30,
     "metadata": {},
     "output_type": "execute_result"
    }
   ],
   "source": [
    "# taking a line to test\n",
    "i = 0\n",
    "for element in test_data:\n",
    "    #print(element)\n",
    "    if i == 6:\n",
    "        break\n",
    "    i+=1\n",
    "normal_string = element.numpy().decode()\n",
    "print(normal_string)\n",
    "length = normal_string[0]\n",
    "print(length)\n",
    "record = normal_string.split(\"\\t\")\n",
    "print(record)\n",
    "token = record[1:int(record[0])+1]\n",
    "newtoken = \"\\t\".join(token) # taking new len\n",
    "newtoken = reducing_mulOcc(newtoken)\n",
    "newtoken = newtoken.replace(\"\\t\", \" \" )\n",
    "newtoken"
   ]
  },
  {
   "cell_type": "code",
   "execution_count": 31,
   "id": "e50e6e9c",
   "metadata": {
    "execution": {
     "iopub.execute_input": "2023-07-11T15:01:34.107040Z",
     "iopub.status.busy": "2023-07-11T15:01:34.106014Z",
     "iopub.status.idle": "2023-07-11T15:01:34.656592Z",
     "shell.execute_reply": "2023-07-11T15:01:34.655520Z"
    },
    "papermill": {
     "duration": 0.767169,
     "end_time": "2023-07-11T15:01:34.658632",
     "exception": false,
     "start_time": "2023-07-11T15:01:33.891463",
     "status": "completed"
    },
    "tags": []
   },
   "outputs": [
    {
     "name": "stdout",
     "output_type": "stream",
     "text": [
      "tf.Tensor([[ 132 1296  969  308  615    2]], shape=(1, 6), dtype=int64)\n",
      "1/1 [==============================] - 0s 457ms/step\n",
      "['O', 'O', 'O', 'O', 'O', 'O']\n"
     ]
    }
   ],
   "source": [
    "def tokenize_and_convert_to_ids(text):\n",
    "    tokens = text.split()\n",
    "    return lowercase_and_convert_to_ids(tokens)\n",
    "\n",
    "\n",
    "# Sample inference using the trained model\n",
    "sample_input = tokenize_and_convert_to_ids(\n",
    "    newtoken#\"eu rejects german call to boycott british lamb\"\n",
    ")\n",
    "sample_input = tf.reshape(sample_input, shape=[1, -1])\n",
    "print(sample_input)\n",
    "\n",
    "output = ner_model.predict(sample_input)\n",
    "prediction = np.argmax(output, axis=-1)[0]\n",
    "prediction = [mapping[i] for i in prediction]\n",
    "\n",
    "print(prediction)"
   ]
  },
  {
   "cell_type": "code",
   "execution_count": 32,
   "id": "fcba8b07",
   "metadata": {
    "execution": {
     "iopub.execute_input": "2023-07-11T15:01:35.093511Z",
     "iopub.status.busy": "2023-07-11T15:01:35.093147Z",
     "iopub.status.idle": "2023-07-11T15:01:38.179781Z",
     "shell.execute_reply": "2023-07-11T15:01:38.178404Z"
    },
    "papermill": {
     "duration": 3.301914,
     "end_time": "2023-07-11T15:01:38.181928",
     "exception": false,
     "start_time": "2023-07-11T15:01:34.880014",
     "status": "completed"
    },
    "tags": []
   },
   "outputs": [
    {
     "name": "stdout",
     "output_type": "stream",
     "text": [
      "1/1 [==============================] - 0s 404ms/step\n",
      "1/1 [==============================] - 0s 23ms/step\n",
      "1/1 [==============================] - 0s 23ms/step\n",
      "1/1 [==============================] - 0s 24ms/step\n",
      "1/1 [==============================] - 0s 24ms/step\n",
      "1/1 [==============================] - 0s 22ms/step\n",
      "1/1 [==============================] - 0s 21ms/step\n",
      "1/1 [==============================] - 0s 22ms/step\n",
      "1/1 [==============================] - 0s 22ms/step\n",
      "1/1 [==============================] - 0s 23ms/step\n",
      "1/1 [==============================] - 0s 22ms/step\n",
      "1/1 [==============================] - 0s 24ms/step\n",
      "1/1 [==============================] - 0s 22ms/step\n",
      "1/1 [==============================] - 0s 24ms/step\n",
      "1/1 [==============================] - 0s 22ms/step\n",
      "1/1 [==============================] - 0s 23ms/step\n",
      "1/1 [==============================] - 0s 22ms/step\n",
      "1/1 [==============================] - 0s 22ms/step\n",
      "1/1 [==============================] - 0s 22ms/step\n",
      "1/1 [==============================] - 0s 22ms/step\n",
      "1/1 [==============================] - 0s 22ms/step\n",
      "1/1 [==============================] - 0s 21ms/step\n",
      "1/1 [==============================] - 0s 22ms/step\n",
      "1/1 [==============================] - 0s 32ms/step\n",
      "1/1 [==============================] - 0s 22ms/step\n",
      "1/1 [==============================] - 0s 20ms/step\n",
      "1/1 [==============================] - 0s 23ms/step\n",
      "1/1 [==============================] - 0s 25ms/step\n",
      "1/1 [==============================] - 0s 22ms/step\n",
      "1/1 [==============================] - 0s 22ms/step\n",
      "1/1 [==============================] - 0s 32ms/step\n",
      "1/1 [==============================] - 0s 25ms/step\n",
      "1/1 [==============================] - 0s 22ms/step\n",
      "1/1 [==============================] - 0s 21ms/step\n",
      "1/1 [==============================] - 0s 21ms/step\n",
      "1/1 [==============================] - 0s 21ms/step\n",
      "1/1 [==============================] - 0s 22ms/step\n",
      "1/1 [==============================] - 0s 22ms/step\n",
      "1/1 [==============================] - 0s 20ms/step\n",
      "1/1 [==============================] - 0s 22ms/step\n",
      "1/1 [==============================] - 0s 22ms/step\n",
      "1/1 [==============================] - 0s 32ms/step\n",
      "processed 5632 tokens with 717 phrases; found: 804 phrases; correct: 572.\n",
      "accuracy:  80.22%; (non-O)\n",
      "accuracy:  93.47%; precision:  71.14%; recall:  79.78%; FB1:  75.21\n",
      "              LOC: precision:  71.00%; recall:  67.62%; FB1:  69.27  100\n",
      "              ORG: precision:  72.43%; recall:  68.02%; FB1:  70.16  185\n",
      "              PER: precision:  70.71%; recall:  88.43%; FB1:  78.59  519\n",
      "5527\n",
      "predicted tokens\n",
      "Counter({'O': 4645, 'B-PER': 382, 'I-PER': 271, 'I-ORG': 124, 'B-ORG': 110, 'B-LOC': 100})\n",
      "real tokens\n",
      "Counter({'O': 4702, 'B-PER': 284, 'I-PER': 278, 'I-ORG': 144, 'B-ORG': 116, 'B-LOC': 93, 'I-LOC': 15})\n",
      "Accuracy: 93.47%\n",
      "\n",
      "\n",
      "\n",
      "Count of common classes at common indices for 'O' class: 4518 out of 5632 classes\n",
      "count percentage : 0.8022\n",
      "Count of common classes at common indices without 'O' class: 803 out of -2104 classes\n",
      "count percentage : -0.3817\n"
     ]
    }
   ],
   "source": [
    "def calculate_metrics(dataset):\n",
    "    all_true_tag_ids, all_predicted_tag_ids = [], []\n",
    "\n",
    "    for x, y in dataset:\n",
    "        output = ner_model.predict(x)\n",
    "        predictions = np.argmax(output, axis=-1)\n",
    "        predictions = np.reshape(predictions, [-1])\n",
    "\n",
    "        true_tag_ids = np.reshape(y, [-1])\n",
    "\n",
    "        mask = (true_tag_ids > 0) & (predictions > 0)\n",
    "        true_tag_ids = true_tag_ids[mask]\n",
    "        predicted_tag_ids = predictions[mask]\n",
    "\n",
    "        all_true_tag_ids.append(true_tag_ids)\n",
    "        all_predicted_tag_ids.append(predicted_tag_ids)\n",
    "\n",
    "    all_true_tag_ids = np.concatenate(all_true_tag_ids)\n",
    "    all_predicted_tag_ids = np.concatenate(all_predicted_tag_ids)\n",
    "\n",
    "    ########\n",
    "    predicted_tags = [mapping[tag] for tag in all_predicted_tag_ids]\n",
    "    real_tags = [mapping[tag] for tag in all_true_tag_ids]\n",
    "\n",
    "    evaluate(real_tags, predicted_tags)\n",
    "\n",
    "    ################################\n",
    "    #############\n",
    "    #using counter\n",
    "    # Create counters for each list\n",
    "    counter1 = Counter(predicted_tags)\n",
    "    counter2 = Counter(real_tags)\n",
    "\n",
    "    # Get the intersection of the counters\n",
    "    intersection = counter1 & counter2\n",
    "\n",
    "    # Calculate the total count of matching elements\n",
    "    num_matching_elements = sum(intersection.values())\n",
    "\n",
    "    print(num_matching_elements)\n",
    "    print(\"predicted tokens\")\n",
    "    print(counter1)\n",
    "    print(\"real tokens\")\n",
    "    print(counter2)\n",
    "\n",
    "    ###########\n",
    "    # Calculate accuracy\n",
    "    total_tokens = len(real_tags)\n",
    "    matching_tokens = sum(1 for pred, actual in zip(predicted_tags, real_tags) if pred == actual)\n",
    "    accuracy = matching_tokens / total_tokens * 100\n",
    "\n",
    "    print(f\"Accuracy: {accuracy:.2f}%\")\n",
    "    print(\"\\n\\n\")\n",
    "\n",
    "    #############\n",
    "    # Classes to compare\n",
    "    classes = ['O']#list(mapping.values())\n",
    "\n",
    "    # Compare and count common classes at each index\n",
    "    count_common_classes = sum(1 for items in zip(predicted_tags, real_tags) if all(item in classes for item in items))\n",
    "\n",
    "    print(\"Count of common classes at common indices for 'O' class:\", count_common_classes,\"out of %d classes\"%(len(predicted_tags)))\n",
    "    print(\"count percentage : %.4f\"%(count_common_classes/len(predicted_tags)))\n",
    "\n",
    "    classes = ['[PAD]', 'B-PER', 'I-PER', 'B-ORG', 'I-ORG', 'B-LOC', 'I-LOC']\n",
    "    # Compare and count common classes at each index\n",
    "    count_common_classes = sum(1 for items in zip(predicted_tags, real_tags) if all(item in classes for item in items))\n",
    "\n",
    "    print(\"Count of common classes at common indices without 'O' class:\", count_common_classes,\"out of %d classes\"%(len(predicted_tags)-7736))\n",
    "    print(\"count percentage : %.4f\"%(count_common_classes/(len(predicted_tags)-7736)))\n",
    "\n",
    "calculate_metrics(test_dataset)"
   ]
  },
  {
   "cell_type": "markdown",
   "id": "23f0a3f2",
   "metadata": {
    "papermill": {
     "duration": 0.220529,
     "end_time": "2023-07-11T15:01:38.624748",
     "exception": false,
     "start_time": "2023-07-11T15:01:38.404219",
     "status": "completed"
    },
    "tags": []
   },
   "source": [
    "# Extracting persons' name"
   ]
  },
  {
   "cell_type": "code",
   "execution_count": 33,
   "id": "fa4e1094",
   "metadata": {
    "execution": {
     "iopub.execute_input": "2023-07-11T15:01:39.064282Z",
     "iopub.status.busy": "2023-07-11T15:01:39.063925Z",
     "iopub.status.idle": "2023-07-11T15:01:39.071203Z",
     "shell.execute_reply": "2023-07-11T15:01:39.070203Z"
    },
    "papermill": {
     "duration": 0.230113,
     "end_time": "2023-07-11T15:01:39.073268",
     "exception": false,
     "start_time": "2023-07-11T15:01:38.843155",
     "status": "completed"
    },
    "tags": []
   },
   "outputs": [],
   "source": [
    "def get_person(given_string):\n",
    "    tokens = given_string.split(\" \")\n",
    "    print(tokens)\n",
    "    # Sample inference using the trained model\n",
    "    sample_input = tokenize_and_convert_to_ids(given_string)\n",
    "    sample_input = tf.reshape(sample_input, shape=[1, -1])\n",
    "\n",
    "    output = ner_model.predict(sample_input)\n",
    "    prediction = np.argmax(output, axis=-1)[0]\n",
    "    prediction = [mapping[i] for i in prediction]\n",
    "\n",
    "    print(prediction)\n",
    "\n",
    "    #### extraction part\n",
    "    toExtract = []\n",
    "    for j in range(len(prediction)):\n",
    "        if prediction[j] == 'I-PER' or prediction[j] == 'B-PER':\n",
    "            toExtract.append(tokens[j])\n",
    "    print(toExtract)"
   ]
  },
  {
   "cell_type": "code",
   "execution_count": 34,
   "id": "3897d7f4",
   "metadata": {
    "execution": {
     "iopub.execute_input": "2023-07-11T15:01:39.558427Z",
     "iopub.status.busy": "2023-07-11T15:01:39.558081Z",
     "iopub.status.idle": "2023-07-11T15:01:39.662890Z",
     "shell.execute_reply": "2023-07-11T15:01:39.661974Z"
    },
    "papermill": {
     "duration": 0.328312,
     "end_time": "2023-07-11T15:01:39.664846",
     "exception": false,
     "start_time": "2023-07-11T15:01:39.336534",
     "status": "completed"
    },
    "tags": []
   },
   "outputs": [
    {
     "name": "stdout",
     "output_type": "stream",
     "text": [
      "['প্রতিবেদক', 'ছিলেন', 'সাপ্তাহিকের', 'রাজশাহীর', 'বিভাগীয়', 'প্রতিনিধি', 'সায়েম', 'সাবু', '।']\n",
      "1/1 [==============================] - 0s 33ms/step\n",
      "['B-PER', 'O', 'O', 'B-LOC', 'O', 'O', 'B-PER', 'I-PER', 'O']\n",
      "['প্রতিবেদক', 'সায়েম', 'সাবু']\n"
     ]
    }
   ],
   "source": [
    "given_string = \"প্রতিবেদক ছিলেন সাপ্তাহিকের রাজশাহীর বিভাগীয় প্রতিনিধি সায়েম সাবু ।\"\n",
    "get_person(given_string)"
   ]
  },
  {
   "cell_type": "code",
   "execution_count": 35,
   "id": "f945f56b",
   "metadata": {
    "execution": {
     "iopub.execute_input": "2023-07-11T15:01:40.107612Z",
     "iopub.status.busy": "2023-07-11T15:01:40.106498Z",
     "iopub.status.idle": "2023-07-11T15:01:40.209788Z",
     "shell.execute_reply": "2023-07-11T15:01:40.208796Z"
    },
    "papermill": {
     "duration": 0.326242,
     "end_time": "2023-07-11T15:01:40.212015",
     "exception": false,
     "start_time": "2023-07-11T15:01:39.885773",
     "status": "completed"
    },
    "tags": []
   },
   "outputs": [
    {
     "name": "stdout",
     "output_type": "stream",
     "text": [
      "['এতে', 'রয়েছে', 'কত্থক', '‘গীতমালিকা’', 'শীর্ষক', 'নৃত্য', 'পরিবেশনা।']\n",
      "1/1 [==============================] - 0s 32ms/step\n",
      "['O', 'O', 'O', 'O', 'O', 'O', 'O']\n",
      "[]\n"
     ]
    }
   ],
   "source": [
    "given_string = \"এতে রয়েছে কত্থক ‘গীতমালিকা’ শীর্ষক নৃত্য পরিবেশনা।\"\n",
    "get_person(given_string)"
   ]
  },
  {
   "cell_type": "code",
   "execution_count": 36,
   "id": "fec3a2be",
   "metadata": {
    "execution": {
     "iopub.execute_input": "2023-07-11T15:01:40.666965Z",
     "iopub.status.busy": "2023-07-11T15:01:40.666389Z",
     "iopub.status.idle": "2023-07-11T15:01:40.820160Z",
     "shell.execute_reply": "2023-07-11T15:01:40.819137Z"
    },
    "papermill": {
     "duration": 0.384877,
     "end_time": "2023-07-11T15:01:40.822220",
     "exception": false,
     "start_time": "2023-07-11T15:01:40.437343",
     "status": "completed"
    },
    "tags": []
   },
   "outputs": [
    {
     "name": "stdout",
     "output_type": "stream",
     "text": [
      "['নিরাপত্তা', 'কর্মকর্তা', 'জান', 'মোহাম্মদ', 'আদালতকে', 'মোশাররফের', '‘অসুস্থতা’', 'সম্পর্কে', 'অবহিত', 'করেন', '।']\n",
      "1/1 [==============================] - 0s 51ms/step\n",
      "['O', 'O', 'B-PER', 'B-PER', 'O', 'B-PER', 'O', 'O', 'O', 'O', 'O']\n",
      "['জান', 'মোহাম্মদ', 'মোশাররফের']\n"
     ]
    }
   ],
   "source": [
    "given_string = \"নিরাপত্তা কর্মকর্তা জান মোহাম্মদ আদালতকে মোশাররফের ‘অসুস্থতা’ সম্পর্কে অবহিত করেন ।\"\n",
    "get_person(given_string)"
   ]
  },
  {
   "cell_type": "code",
   "execution_count": 37,
   "id": "d5426339",
   "metadata": {
    "execution": {
     "iopub.execute_input": "2023-07-11T15:01:41.263364Z",
     "iopub.status.busy": "2023-07-11T15:01:41.263005Z",
     "iopub.status.idle": "2023-07-11T15:01:41.358901Z",
     "shell.execute_reply": "2023-07-11T15:01:41.357964Z"
    },
    "papermill": {
     "duration": 0.317301,
     "end_time": "2023-07-11T15:01:41.361064",
     "exception": false,
     "start_time": "2023-07-11T15:01:41.043763",
     "status": "completed"
    },
    "tags": []
   },
   "outputs": [
    {
     "name": "stdout",
     "output_type": "stream",
     "text": [
      "['প্রেমের', 'ময়দানে', 'ক্যারোলিন', 'ওজনিয়াকি', 'আর', 'ররি', 'ম্যাকইলরয়ের', 'লক্ষণীয়', 'উন্নতিই', 'হয়েছে', '।']\n",
      "1/1 [==============================] - 0s 22ms/step\n",
      "['O', 'O', 'B-PER', 'I-PER', 'O', 'B-PER', 'I-PER', 'O', 'O', 'O', 'O']\n",
      "['ক্যারোলিন', 'ওজনিয়াকি', 'ররি', 'ম্যাকইলরয়ের']\n"
     ]
    }
   ],
   "source": [
    "given_string = \"প্রেমের ময়দানে ক্যারোলিন ওজনিয়াকি আর ররি ম্যাকইলরয়ের লক্ষণীয় উন্নতিই হয়েছে ।\"\n",
    "get_person(given_string)"
   ]
  },
  {
   "cell_type": "code",
   "execution_count": 38,
   "id": "0dbfb1bf",
   "metadata": {
    "execution": {
     "iopub.execute_input": "2023-07-11T15:01:41.805857Z",
     "iopub.status.busy": "2023-07-11T15:01:41.805474Z",
     "iopub.status.idle": "2023-07-11T15:01:41.895328Z",
     "shell.execute_reply": "2023-07-11T15:01:41.893970Z"
    },
    "papermill": {
     "duration": 0.314204,
     "end_time": "2023-07-11T15:01:41.897530",
     "exception": false,
     "start_time": "2023-07-11T15:01:41.583326",
     "status": "completed"
    },
    "tags": []
   },
   "outputs": [
    {
     "name": "stdout",
     "output_type": "stream",
     "text": [
      "['আমার', 'সোনার', 'বাংলা', 'আমি', 'তোমায়', 'ভালবাসি']\n",
      "1/1 [==============================] - 0s 23ms/step\n",
      "['O', 'O', 'O', 'O', 'O', 'O']\n",
      "[]\n"
     ]
    }
   ],
   "source": [
    "given_string = \"আমার সোনার বাংলা আমি তোমায় ভালবাসি\"\n",
    "get_person(given_string)"
   ]
  },
  {
   "cell_type": "markdown",
   "id": "e5bb1e2f",
   "metadata": {
    "papermill": {
     "duration": 0.224897,
     "end_time": "2023-07-11T15:01:42.344318",
     "exception": false,
     "start_time": "2023-07-11T15:01:42.119421",
     "status": "completed"
    },
    "tags": []
   },
   "source": [
    "# Conclusion"
   ]
  },
  {
   "cell_type": "code",
   "execution_count": null,
   "id": "f80eec10",
   "metadata": {
    "papermill": {
     "duration": 0.220143,
     "end_time": "2023-07-11T15:01:42.837222",
     "exception": false,
     "start_time": "2023-07-11T15:01:42.617079",
     "status": "completed"
    },
    "tags": []
   },
   "outputs": [],
   "source": []
  }
 ],
 "metadata": {
  "kernelspec": {
   "display_name": "Python 3",
   "language": "python",
   "name": "python3"
  },
  "language_info": {
   "codemirror_mode": {
    "name": "ipython",
    "version": 3
   },
   "file_extension": ".py",
   "mimetype": "text/x-python",
   "name": "python",
   "nbconvert_exporter": "python",
   "pygments_lexer": "ipython3",
   "version": "3.10.12"
  },
  "papermill": {
   "default_parameters": {},
   "duration": 353.97162,
   "end_time": "2023-07-11T15:01:46.569862",
   "environment_variables": {},
   "exception": null,
   "input_path": "__notebook__.ipynb",
   "output_path": "__notebook__.ipynb",
   "parameters": {},
   "start_time": "2023-07-11T14:55:52.598242",
   "version": "2.4.0"
  }
 },
 "nbformat": 4,
 "nbformat_minor": 5
}
